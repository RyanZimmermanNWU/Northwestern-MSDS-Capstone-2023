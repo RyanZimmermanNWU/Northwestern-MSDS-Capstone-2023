{
 "cells": [
  {
   "cell_type": "markdown",
   "metadata": {},
   "source": [
    "# Libraries"
   ]
  },
  {
   "cell_type": "code",
   "execution_count": 34,
   "metadata": {
    "application/vnd.databricks.v1+cell": {
     "cellMetadata": {
      "byteLimit": 2048000,
      "rowLimit": 10000
     },
     "inputWidgets": {},
     "nuid": "3844dfdf-e5b7-466d-99bc-d0b2020334a8",
     "showTitle": false,
     "title": ""
    }
   },
   "outputs": [],
   "source": [
    "import pandas as pd\n",
    "import matplotlib.pyplot as plt\n",
    "import matplotlib\n",
    "import seaborn as sns"
   ]
  },
  {
   "cell_type": "markdown",
   "metadata": {},
   "source": [
    "# Principal Components"
   ]
  },
  {
   "cell_type": "code",
   "execution_count": 35,
   "metadata": {
    "application/vnd.databricks.v1+cell": {
     "cellMetadata": {
      "byteLimit": 2048000,
      "rowLimit": 10000
     },
     "inputWidgets": {},
     "nuid": "e9c57fed-61b1-49c9-8b5d-060981d554ba",
     "showTitle": false,
     "title": ""
    }
   },
   "outputs": [
    {
     "data": {
      "text/html": [
       "<div>\n",
       "<style scoped>\n",
       "    .dataframe tbody tr th:only-of-type {\n",
       "        vertical-align: middle;\n",
       "    }\n",
       "\n",
       "    .dataframe tbody tr th {\n",
       "        vertical-align: top;\n",
       "    }\n",
       "\n",
       "    .dataframe thead th {\n",
       "        text-align: right;\n",
       "    }\n",
       "</style>\n",
       "<table border=\"1\" class=\"dataframe\">\n",
       "  <thead>\n",
       "    <tr style=\"text-align: right;\">\n",
       "      <th></th>\n",
       "      <th>PC1</th>\n",
       "      <th>PC2</th>\n",
       "      <th>PC3</th>\n",
       "    </tr>\n",
       "  </thead>\n",
       "  <tbody>\n",
       "    <tr>\n",
       "      <th>0</th>\n",
       "      <td>0.243359</td>\n",
       "      <td>-0.621418</td>\n",
       "      <td>-0.538518</td>\n",
       "    </tr>\n",
       "    <tr>\n",
       "      <th>1</th>\n",
       "      <td>-1.165074</td>\n",
       "      <td>-0.117813</td>\n",
       "      <td>1.159598</td>\n",
       "    </tr>\n",
       "    <tr>\n",
       "      <th>2</th>\n",
       "      <td>0.241616</td>\n",
       "      <td>-1.883425</td>\n",
       "      <td>-0.021387</td>\n",
       "    </tr>\n",
       "    <tr>\n",
       "      <th>3</th>\n",
       "      <td>-0.943044</td>\n",
       "      <td>-0.399704</td>\n",
       "      <td>0.326187</td>\n",
       "    </tr>\n",
       "    <tr>\n",
       "      <th>4</th>\n",
       "      <td>-0.699336</td>\n",
       "      <td>-0.838263</td>\n",
       "      <td>1.388388</td>\n",
       "    </tr>\n",
       "    <tr>\n",
       "      <th>...</th>\n",
       "      <td>...</td>\n",
       "      <td>...</td>\n",
       "      <td>...</td>\n",
       "    </tr>\n",
       "    <tr>\n",
       "      <th>3216</th>\n",
       "      <td>-0.171748</td>\n",
       "      <td>-1.193146</td>\n",
       "      <td>0.127041</td>\n",
       "    </tr>\n",
       "    <tr>\n",
       "      <th>3217</th>\n",
       "      <td>-1.900711</td>\n",
       "      <td>1.731057</td>\n",
       "      <td>-0.857640</td>\n",
       "    </tr>\n",
       "    <tr>\n",
       "      <th>3218</th>\n",
       "      <td>0.207718</td>\n",
       "      <td>0.006282</td>\n",
       "      <td>-0.152389</td>\n",
       "    </tr>\n",
       "    <tr>\n",
       "      <th>3219</th>\n",
       "      <td>1.085174</td>\n",
       "      <td>-1.119617</td>\n",
       "      <td>0.649587</td>\n",
       "    </tr>\n",
       "    <tr>\n",
       "      <th>3220</th>\n",
       "      <td>-0.107379</td>\n",
       "      <td>-0.204749</td>\n",
       "      <td>0.579130</td>\n",
       "    </tr>\n",
       "  </tbody>\n",
       "</table>\n",
       "<p>3221 rows × 3 columns</p>\n",
       "</div>"
      ],
      "text/plain": [
       "           PC1       PC2       PC3\n",
       "0     0.243359 -0.621418 -0.538518\n",
       "1    -1.165074 -0.117813  1.159598\n",
       "2     0.241616 -1.883425 -0.021387\n",
       "3    -0.943044 -0.399704  0.326187\n",
       "4    -0.699336 -0.838263  1.388388\n",
       "...        ...       ...       ...\n",
       "3216 -0.171748 -1.193146  0.127041\n",
       "3217 -1.900711  1.731057 -0.857640\n",
       "3218  0.207718  0.006282 -0.152389\n",
       "3219  1.085174 -1.119617  0.649587\n",
       "3220 -0.107379 -0.204749  0.579130\n",
       "\n",
       "[3221 rows x 3 columns]"
      ]
     },
     "execution_count": 35,
     "metadata": {},
     "output_type": "execute_result"
    }
   ],
   "source": [
    "repo = r'https://raw.githubusercontent.com/mattlibonati/Northwestern-MSDS-Capstone-2023/main/Analysis/pca_loadings/'\n",
    "\n",
    "components = pd.read_csv(repo + 'census_ss_loadings.csv')\n",
    "\n",
    "components"
   ]
  },
  {
   "cell_type": "markdown",
   "metadata": {},
   "source": [
    "# Nearest Neighbors"
   ]
  },
  {
   "cell_type": "code",
   "execution_count": 36,
   "metadata": {},
   "outputs": [
    {
     "name": "stdout",
     "output_type": "stream",
     "text": [
      "Distances:\n",
      "[[0.         0.15112035]\n",
      " [0.         0.05412471]\n",
      " [0.         0.17150628]\n",
      " ...\n",
      " [0.         0.22317987]\n",
      " [0.         0.17464636]\n",
      " [0.         0.20337661]]\n",
      "\n",
      "Indices:\n",
      "[[   0 2176]\n",
      " [   1 3002]\n",
      " [   2 1263]\n",
      " ...\n",
      " [3218 2039]\n",
      " [3219   70]\n",
      " [3220  967]]\n"
     ]
    }
   ],
   "source": [
    "from sklearn.neighbors import NearestNeighbors\n",
    "neigh = NearestNeighbors(n_neighbors=2)\n",
    "nbrs = neigh.fit(components)\n",
    "distances, indices = nbrs.kneighbors(components)\n",
    "print(f'Distances:\\n{distances}\\n\\nIndices:\\n{indices}')"
   ]
  },
  {
   "cell_type": "markdown",
   "metadata": {},
   "source": [
    "# Plotting K-Distance\n",
    "Finds value of epsilon"
   ]
  },
  {
   "cell_type": "code",
   "execution_count": 37,
   "metadata": {},
   "outputs": [
    {
     "data": {
      "image/png": "[encoded data removed]",
      "text/plain": [
       "<Figure size 360x360 with 1 Axes>"
      ]
     },
     "metadata": {
      "needs_background": "light"
     },
     "output_type": "display_data"
    }
   ],
   "source": [
    "%matplotlib inline\n",
    "\n",
    "distances = np.sort(distances, axis=0)\n",
    "distances = distances[:,1]\n",
    "plt.figure(figsize=(5,5))\n",
    "plt.plot(distances)\n",
    "plt.title('K-distance Graph',fontsize=20)\n",
    "plt.xlabel('Data Points sorted by distance',fontsize=14)\n",
    "plt.ylabel('Epsilon',fontsize=14)\n",
    "plt.show()"
   ]
  },
  {
   "cell_type": "code",
   "execution_count": 29,
   "metadata": {
    "application/vnd.databricks.v1+cell": {
     "cellMetadata": {
      "byteLimit": 2048000,
      "rowLimit": 10000
     },
     "inputWidgets": {},
     "nuid": "3bc1ca72-3df1-49c9-8210-a638f8930345",
     "showTitle": false,
     "title": ""
    }
   },
   "outputs": [
    {
     "data": {
      "image/png": "[encoded data removed]",
      "text/plain": [
       "<Figure size 360x360 with 1 Axes>"
      ]
     },
     "metadata": {
      "needs_background": "light"
     },
     "output_type": "display_data"
    }
   ],
   "source": [
    "from sklearn.cluster import DBSCAN\n",
    "dbscan=DBSCAN()\n",
    "dbscan.fit(components)\n",
    "\n",
    "components['DBSCAN_labels']=dbscan.labels_ \n",
    "\n",
    "# Plotting resulting clusters\n",
    "plt.figure(figsize=(5,5))\n",
    "plt.scatter(components['PC1'],components['PC2'],c=components['DBSCAN_labels'],cmap='Accent',s=15)\n",
    "plt.title('DBSCAN Clustering',fontsize=20)\n",
    "plt.xlabel('Feature 1',fontsize=14)\n",
    "plt.ylabel('Feature 2',fontsize=14)\n",
    "plt.show()"
   ]
  },
  {
   "cell_type": "markdown",
   "metadata": {},
   "source": [
    "# K-Means"
   ]
  },
  {
   "cell_type": "code",
   "execution_count": 38,
   "metadata": {},
   "outputs": [],
   "source": [
    "from sklearn.cluster import KMeans\n",
    "\n",
    "def kmeans_elbow(X):\n",
    "    wcss=[]\n",
    "    for k in range(1,11):\n",
    "        kmeans = KMeans(n_clusters=k, init='k-means++')\n",
    "        kmeans.fit(X)\n",
    "        wcss.append(kmeans.inertia_)\n",
    "    plt.figure(figsize=(12,6))\n",
    "    plt.grid()\n",
    "    plt.plot(range(1,11),wcss,linewidth=2,color='red',marker='8')\n",
    "    plt.xlabel('K Value')\n",
    "    plt.ylabel('WCSS')\n",
    "    return plt.show()"
   ]
  },
  {
   "cell_type": "code",
   "execution_count": 39,
   "metadata": {},
   "outputs": [],
   "source": [
    "def kmeans_cluster(df, X):\n",
    "    tmp      = df\n",
    "    kmeans   = KMeans(n_clusters = 5)\n",
    "    clusters = kmeans.fit_predict(X)\n",
    "    tmp['label'] = clusters\n",
    "    return tmp"
   ]
  },
  {
   "cell_type": "code",
   "execution_count": 40,
   "metadata": {},
   "outputs": [],
   "source": [
    "#%pylab\n",
    "#%matplotlib inline\n",
    "from mpl_toolkits.mplot3d import Axes3D\n",
    "\n",
    "def plot_k(df): \n",
    "   \n",
    "    fig = plt.figure(figsize(20,10))\n",
    "    ax = fig.add_subplot(111, projection='3d')\n",
    "    ax.scatter(df['PC1'][df.label == 0], df['PC2'][df.label == 0],df['PC3'][df.label == 0],c='blue', s=60)\n",
    "    ax.scatter(df['PC1'][df.label == 1], df['PC2'][df.label == 1],df['PC3'][df.label == 1],c='red', s=60)\n",
    "    ax.scatter(df['PC1'][df.label == 2], df['PC2'][df.label == 2],df['PC3'][df.label == 2],c='green', s=60)\n",
    "    ax.scatter(df['PC1'][df.label == 3], df['PC2'][df.label == 3],df['PC3'][df.label == 3],c='orange', s=60)\n",
    "    ax.scatter(df['PC1'][df.label == 4], df['PC2'][df.label == 4],df['PC3'][df.label == 4],c='purple', s=60)\n",
    "    ax.view_init(30,185)\n",
    "\n",
    "    ### CHECK/ VALIDATE THESE!!!!\n",
    "    plt.xlabel('PC1')\n",
    "    plt.ylabel('PC2')\n",
    "    ax.set_zlabel('PC3')\n",
    "\n",
    "    plt.show()"
   ]
  },
  {
   "cell_type": "markdown",
   "metadata": {},
   "source": [
    "# Data"
   ]
  },
  {
   "cell_type": "code",
   "execution_count": 41,
   "metadata": {
    "scrolled": false
   },
   "outputs": [
    {
     "data": {
      "text/html": [
       "<div>\n",
       "<style scoped>\n",
       "    .dataframe tbody tr th:only-of-type {\n",
       "        vertical-align: middle;\n",
       "    }\n",
       "\n",
       "    .dataframe tbody tr th {\n",
       "        vertical-align: top;\n",
       "    }\n",
       "\n",
       "    .dataframe thead th {\n",
       "        text-align: right;\n",
       "    }\n",
       "</style>\n",
       "<table border=\"1\" class=\"dataframe\">\n",
       "  <thead>\n",
       "    <tr style=\"text-align: right;\">\n",
       "      <th></th>\n",
       "      <th>PC1</th>\n",
       "      <th>PC2</th>\n",
       "      <th>PC3</th>\n",
       "    </tr>\n",
       "  </thead>\n",
       "  <tbody>\n",
       "    <tr>\n",
       "      <th>0</th>\n",
       "      <td>0.243359</td>\n",
       "      <td>-0.621418</td>\n",
       "      <td>-0.538518</td>\n",
       "    </tr>\n",
       "    <tr>\n",
       "      <th>1</th>\n",
       "      <td>-1.165074</td>\n",
       "      <td>-0.117813</td>\n",
       "      <td>1.159598</td>\n",
       "    </tr>\n",
       "    <tr>\n",
       "      <th>2</th>\n",
       "      <td>0.241616</td>\n",
       "      <td>-1.883425</td>\n",
       "      <td>-0.021387</td>\n",
       "    </tr>\n",
       "    <tr>\n",
       "      <th>3</th>\n",
       "      <td>-0.943044</td>\n",
       "      <td>-0.399704</td>\n",
       "      <td>0.326187</td>\n",
       "    </tr>\n",
       "    <tr>\n",
       "      <th>4</th>\n",
       "      <td>-0.699336</td>\n",
       "      <td>-0.838263</td>\n",
       "      <td>1.388388</td>\n",
       "    </tr>\n",
       "    <tr>\n",
       "      <th>...</th>\n",
       "      <td>...</td>\n",
       "      <td>...</td>\n",
       "      <td>...</td>\n",
       "    </tr>\n",
       "    <tr>\n",
       "      <th>3216</th>\n",
       "      <td>-0.171748</td>\n",
       "      <td>-1.193146</td>\n",
       "      <td>0.127041</td>\n",
       "    </tr>\n",
       "    <tr>\n",
       "      <th>3217</th>\n",
       "      <td>-1.900711</td>\n",
       "      <td>1.731057</td>\n",
       "      <td>-0.857640</td>\n",
       "    </tr>\n",
       "    <tr>\n",
       "      <th>3218</th>\n",
       "      <td>0.207718</td>\n",
       "      <td>0.006282</td>\n",
       "      <td>-0.152389</td>\n",
       "    </tr>\n",
       "    <tr>\n",
       "      <th>3219</th>\n",
       "      <td>1.085174</td>\n",
       "      <td>-1.119617</td>\n",
       "      <td>0.649587</td>\n",
       "    </tr>\n",
       "    <tr>\n",
       "      <th>3220</th>\n",
       "      <td>-0.107379</td>\n",
       "      <td>-0.204749</td>\n",
       "      <td>0.579130</td>\n",
       "    </tr>\n",
       "  </tbody>\n",
       "</table>\n",
       "<p>3221 rows × 3 columns</p>\n",
       "</div>"
      ],
      "text/plain": [
       "           PC1       PC2       PC3\n",
       "0     0.243359 -0.621418 -0.538518\n",
       "1    -1.165074 -0.117813  1.159598\n",
       "2     0.241616 -1.883425 -0.021387\n",
       "3    -0.943044 -0.399704  0.326187\n",
       "4    -0.699336 -0.838263  1.388388\n",
       "...        ...       ...       ...\n",
       "3216 -0.171748 -1.193146  0.127041\n",
       "3217 -1.900711  1.731057 -0.857640\n",
       "3218  0.207718  0.006282 -0.152389\n",
       "3219  1.085174 -1.119617  0.649587\n",
       "3220 -0.107379 -0.204749  0.579130\n",
       "\n",
       "[3221 rows x 3 columns]"
      ]
     },
     "metadata": {},
     "output_type": "display_data"
    },
    {
     "data": {
      "text/plain": [
       "array([[ 0.24335875, -0.62141774, -0.538518  ],\n",
       "       [-1.16507442, -0.11781283,  1.15959811],\n",
       "       [ 0.24161591, -1.88342492, -0.02138659],\n",
       "       ...,\n",
       "       [ 0.20771754,  0.00628234, -0.15238866],\n",
       "       [ 1.08517352, -1.11961738,  0.64958744],\n",
       "       [-0.107379  , -0.20474856,  0.5791296 ]])"
      ]
     },
     "execution_count": 41,
     "metadata": {},
     "output_type": "execute_result"
    }
   ],
   "source": [
    "repo_a = r'https://raw.githubusercontent.com/mattlibonati/Northwestern-MSDS-Capstone-2023/main/Analysis/pca_loadings/'\n",
    "\n",
    "components  = pd.read_csv(repo_a + 'census_ss_loadings.csv')\n",
    "\n",
    "display(components)\n",
    "\n",
    "X = components.iloc[:, :].values\n",
    "X"
   ]
  },
  {
   "cell_type": "markdown",
   "metadata": {},
   "source": [
    "# Elbow Curve"
   ]
  },
  {
   "cell_type": "code",
   "execution_count": 42,
   "metadata": {},
   "outputs": [
    {
     "data": {
      "image/png": "[encoded data removed]",
      "text/plain": [
       "<Figure size 864x432 with 1 Axes>"
      ]
     },
     "metadata": {
      "needs_background": "light"
     },
     "output_type": "display_data"
    }
   ],
   "source": [
    "kmeans_elbow(X)"
   ]
  },
  {
   "cell_type": "code",
   "execution_count": 43,
   "metadata": {},
   "outputs": [
    {
     "data": {
      "text/html": [
       "<div>\n",
       "<style scoped>\n",
       "    .dataframe tbody tr th:only-of-type {\n",
       "        vertical-align: middle;\n",
       "    }\n",
       "\n",
       "    .dataframe tbody tr th {\n",
       "        vertical-align: top;\n",
       "    }\n",
       "\n",
       "    .dataframe thead th {\n",
       "        text-align: right;\n",
       "    }\n",
       "</style>\n",
       "<table border=\"1\" class=\"dataframe\">\n",
       "  <thead>\n",
       "    <tr style=\"text-align: right;\">\n",
       "      <th></th>\n",
       "      <th>PC1</th>\n",
       "      <th>PC2</th>\n",
       "      <th>PC3</th>\n",
       "      <th>label</th>\n",
       "    </tr>\n",
       "  </thead>\n",
       "  <tbody>\n",
       "    <tr>\n",
       "      <th>0</th>\n",
       "      <td>0.243359</td>\n",
       "      <td>-0.621418</td>\n",
       "      <td>-0.538518</td>\n",
       "      <td>4</td>\n",
       "    </tr>\n",
       "    <tr>\n",
       "      <th>1</th>\n",
       "      <td>-1.165074</td>\n",
       "      <td>-0.117813</td>\n",
       "      <td>1.159598</td>\n",
       "      <td>4</td>\n",
       "    </tr>\n",
       "    <tr>\n",
       "      <th>2</th>\n",
       "      <td>0.241616</td>\n",
       "      <td>-1.883425</td>\n",
       "      <td>-0.021387</td>\n",
       "      <td>4</td>\n",
       "    </tr>\n",
       "    <tr>\n",
       "      <th>3</th>\n",
       "      <td>-0.943044</td>\n",
       "      <td>-0.399704</td>\n",
       "      <td>0.326187</td>\n",
       "      <td>4</td>\n",
       "    </tr>\n",
       "    <tr>\n",
       "      <th>4</th>\n",
       "      <td>-0.699336</td>\n",
       "      <td>-0.838263</td>\n",
       "      <td>1.388388</td>\n",
       "      <td>4</td>\n",
       "    </tr>\n",
       "    <tr>\n",
       "      <th>...</th>\n",
       "      <td>...</td>\n",
       "      <td>...</td>\n",
       "      <td>...</td>\n",
       "      <td>...</td>\n",
       "    </tr>\n",
       "    <tr>\n",
       "      <th>3216</th>\n",
       "      <td>-0.171748</td>\n",
       "      <td>-1.193146</td>\n",
       "      <td>0.127041</td>\n",
       "      <td>4</td>\n",
       "    </tr>\n",
       "    <tr>\n",
       "      <th>3217</th>\n",
       "      <td>-1.900711</td>\n",
       "      <td>1.731057</td>\n",
       "      <td>-0.857640</td>\n",
       "      <td>3</td>\n",
       "    </tr>\n",
       "    <tr>\n",
       "      <th>3218</th>\n",
       "      <td>0.207718</td>\n",
       "      <td>0.006282</td>\n",
       "      <td>-0.152389</td>\n",
       "      <td>4</td>\n",
       "    </tr>\n",
       "    <tr>\n",
       "      <th>3219</th>\n",
       "      <td>1.085174</td>\n",
       "      <td>-1.119617</td>\n",
       "      <td>0.649587</td>\n",
       "      <td>4</td>\n",
       "    </tr>\n",
       "    <tr>\n",
       "      <th>3220</th>\n",
       "      <td>-0.107379</td>\n",
       "      <td>-0.204749</td>\n",
       "      <td>0.579130</td>\n",
       "      <td>4</td>\n",
       "    </tr>\n",
       "  </tbody>\n",
       "</table>\n",
       "<p>3221 rows × 4 columns</p>\n",
       "</div>"
      ],
      "text/plain": [
       "           PC1       PC2       PC3  label\n",
       "0     0.243359 -0.621418 -0.538518      4\n",
       "1    -1.165074 -0.117813  1.159598      4\n",
       "2     0.241616 -1.883425 -0.021387      4\n",
       "3    -0.943044 -0.399704  0.326187      4\n",
       "4    -0.699336 -0.838263  1.388388      4\n",
       "...        ...       ...       ...    ...\n",
       "3216 -0.171748 -1.193146  0.127041      4\n",
       "3217 -1.900711  1.731057 -0.857640      3\n",
       "3218  0.207718  0.006282 -0.152389      4\n",
       "3219  1.085174 -1.119617  0.649587      4\n",
       "3220 -0.107379 -0.204749  0.579130      4\n",
       "\n",
       "[3221 rows x 4 columns]"
      ]
     },
     "execution_count": 43,
     "metadata": {},
     "output_type": "execute_result"
    }
   ],
   "source": [
    "clustered_df = kmeans_cluster(components, X)\n",
    "clustered_df"
   ]
  },
  {
   "cell_type": "code",
   "execution_count": 47,
   "metadata": {},
   "outputs": [
    {
     "data": {
      "image/png": "[encoded data removed]",
      "text/plain": [
       "<Figure size 1440x720 with 1 Axes>"
      ]
     },
     "metadata": {
      "needs_background": "light"
     },
     "output_type": "display_data"
    }
   ],
   "source": [
    "plot_k(clustered_df)"
   ]
  },
  {
   "cell_type": "code",
   "execution_count": 48,
   "metadata": {},
   "outputs": [
    {
     "data": {
      "text/html": [
       "<div>\n",
       "<style scoped>\n",
       "    .dataframe tbody tr th:only-of-type {\n",
       "        vertical-align: middle;\n",
       "    }\n",
       "\n",
       "    .dataframe tbody tr th {\n",
       "        vertical-align: top;\n",
       "    }\n",
       "\n",
       "    .dataframe thead th {\n",
       "        text-align: right;\n",
       "    }\n",
       "</style>\n",
       "<table border=\"1\" class=\"dataframe\">\n",
       "  <thead>\n",
       "    <tr style=\"text-align: right;\">\n",
       "      <th></th>\n",
       "      <th>GEOID</th>\n",
       "      <th>label</th>\n",
       "    </tr>\n",
       "  </thead>\n",
       "  <tbody>\n",
       "    <tr>\n",
       "      <th>0</th>\n",
       "      <td>20161</td>\n",
       "      <td>4</td>\n",
       "    </tr>\n",
       "    <tr>\n",
       "      <th>1</th>\n",
       "      <td>19159</td>\n",
       "      <td>4</td>\n",
       "    </tr>\n",
       "    <tr>\n",
       "      <th>2</th>\n",
       "      <td>30009</td>\n",
       "      <td>4</td>\n",
       "    </tr>\n",
       "    <tr>\n",
       "      <th>3</th>\n",
       "      <td>16007</td>\n",
       "      <td>4</td>\n",
       "    </tr>\n",
       "    <tr>\n",
       "      <th>4</th>\n",
       "      <td>55011</td>\n",
       "      <td>4</td>\n",
       "    </tr>\n",
       "    <tr>\n",
       "      <th>...</th>\n",
       "      <td>...</td>\n",
       "      <td>...</td>\n",
       "    </tr>\n",
       "    <tr>\n",
       "      <th>3216</th>\n",
       "      <td>53003</td>\n",
       "      <td>4</td>\n",
       "    </tr>\n",
       "    <tr>\n",
       "      <th>3217</th>\n",
       "      <td>13043</td>\n",
       "      <td>3</td>\n",
       "    </tr>\n",
       "    <tr>\n",
       "      <th>3218</th>\n",
       "      <td>48451</td>\n",
       "      <td>4</td>\n",
       "    </tr>\n",
       "    <tr>\n",
       "      <th>3219</th>\n",
       "      <td>39089</td>\n",
       "      <td>4</td>\n",
       "    </tr>\n",
       "    <tr>\n",
       "      <th>3220</th>\n",
       "      <td>19193</td>\n",
       "      <td>4</td>\n",
       "    </tr>\n",
       "  </tbody>\n",
       "</table>\n",
       "<p>3221 rows × 2 columns</p>\n",
       "</div>"
      ],
      "text/plain": [
       "      GEOID  label\n",
       "0     20161      4\n",
       "1     19159      4\n",
       "2     30009      4\n",
       "3     16007      4\n",
       "4     55011      4\n",
       "...     ...    ...\n",
       "3216  53003      4\n",
       "3217  13043      3\n",
       "3218  48451      4\n",
       "3219  39089      4\n",
       "3220  19193      4\n",
       "\n",
       "[3221 rows x 2 columns]"
      ]
     },
     "execution_count": 48,
     "metadata": {},
     "output_type": "execute_result"
    }
   ],
   "source": [
    "repo_d = r'https://raw.githubusercontent.com/mattlibonati/Northwestern-MSDS-Capstone-2023/main/Data/'\n",
    "census_data = pd.read_csv(repo_d + 'census.csv')\n",
    "\n",
    "census_data[['GEOID']].join(clustered_df[['label']])"
   ]
  }
 ],
 "metadata": {
  "application/vnd.databricks.v1+notebook": {
   "dashboards": [],
   "language": "python",
   "notebookMetadata": {
    "pythonIndentUnit": 4
   },
   "notebookName": "DBSCAN",
   "notebookOrigID": 2050411386200146,
   "widgets": {}
  },
  "kernelspec": {
   "display_name": "Python 3 (ipykernel)",
   "language": "python",
   "name": "python3"
  },
  "language_info": {
   "codemirror_mode": {
    "name": "ipython",
    "version": 3
   },
   "file_extension": ".py",
   "mimetype": "text/x-python",
   "name": "python",
   "nbconvert_exporter": "python",
   "pygments_lexer": "ipython3",
   "version": "3.9.7"
  }
 },
 "nbformat": 4,
 "nbformat_minor": 1
}
