{
 "cells": [
  {
   "cell_type": "markdown",
   "id": "15740234",
   "metadata": {},
   "source": [
    "# Scoring These\n",
    "Silhouette Score: Silhouette score measures how similar an object is to its own cluster compared to other clusters. It ranges from -1 to 1, with higher values indicating better clustering performance.\n",
    "\n",
    "Davies-Bouldin Index: The Davies-Bouldin index measures the average similarity between each cluster and its most similar cluster, taking into account both the scatter within each cluster and the separation between clusters. A lower score indicates better clustering performance.\n",
    "\n",
    "Calinski-Harabasz Index: The Calinski-Harabasz index measures the ratio of the between-cluster variance to the within-cluster variance. A higher score indicates better clustering performance.\n",
    "\n",
    "Elbow Method: The elbow method is a visual approach to determining the optimal number of clusters by plotting the within-cluster sum of squares (WSS) against the number of clusters. The optimal number of clusters is the point where the change in WSS begins to level off.\n",
    "\n",
    "Gap Statistic: The gap statistic compares the within-cluster variation for different values of k with their expected values under a null reference distribution of the data. The optimal number of clusters is the one that maximizes the gap statistic."
   ]
  },
  {
   "cell_type": "code",
   "execution_count": null,
   "id": "df89569d",
   "metadata": {},
   "outputs": [],
   "source": []
  }
 ],
 "metadata": {
  "kernelspec": {
   "display_name": "Python 3 (ipykernel)",
   "language": "python",
   "name": "python3"
  },
  "language_info": {
   "codemirror_mode": {
    "name": "ipython",
    "version": 3
   },
   "file_extension": ".py",
   "mimetype": "text/x-python",
   "name": "python",
   "nbconvert_exporter": "python",
   "pygments_lexer": "ipython3",
   "version": "3.10.9"
  }
 },
 "nbformat": 4,
 "nbformat_minor": 5
}
